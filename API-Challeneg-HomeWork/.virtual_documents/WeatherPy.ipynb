


# Dependencies and Setup
import matplotlib.pyplot as plt
import pandas as pd
import numpy as np
import requests
import time
from scipy.stats import linregress

# Impor the OpenWeatherMap API key
from api_keys import weather_api_key

# Import citipy to determine the cities based on latitude and longitude
from citipy import citipy





weather_api_key


# Empty list for holding the latitude and longitude combinations
lat_lngs = []

# Empty list for holding the cities names
cities = []

# Range of latitudes and longitudes
lat_range = (-90, 90)
lng_range = (-180, 180)

# Create a set of random lat and lng combinations
lats = np.random.uniform(lat_range[0], lat_range[1], size=1500)
lngs = np.random.uniform(lng_range[0], lng_range[1], size=1500)
lat_lngs = zip(lats, lngs)

# Identify nearest city for each lat, lng combination
for lat_lng in lat_lngs:
    city = citipy.nearest_city(lat_lng[0], lat_lng[1]).city_name
    
    # If the city is unique, then add it to a our cities list
    if city not in cities:
        cities.append(city)

# Print the city count to confirm sufficient count
print(f"Number of cities in the list: {len(cities)}")








subset_cities = cities[:10]
subset_cities


url = "https://api.openweathermap.org/data/2.5/weather"
city_url = url + "?q=" + subset_cities[2] + "&APPID=" + weather_api_key
res = requests.get(city_url)
res


res.json()


# Set the API base URL
url = "https://api.openweathermap.org/data/2.5/weather"

# Define an empty list to fetch the weather data for each city
city_data = []

# Print to logger
print("Beginning Data Retrieval     ")
print("-----------------------------")

# Create counters
record_count = 1
set_count = 1

# Loop through all the cities in our list to fetch weather data
for i, city in enumerate(cities):
        
    # Group cities in sets of 50 for logging purposes
    if (i % 50 == 0 and i >= 50):
        set_count += 1
        record_count = 0

    # Create endpoint URL with each city
    city_url = url + "?q=" + city 
    
    # Log the url, record, and set numbers
    print("Processing Record %s of Set %s | %s" % (record_count, set_count, city))

    # Add 1 to the record count
    record_count += 1

    # Run an API request for each of the cities
    try:
        # Parse the JSON and retrieve data
        response = requests.get(city_url + "&APPID=" + weather_api_key)
        city_weather = response.json()

        # Parse out latitude, longitude, max temp, humidity, cloudiness, wind speed, country, and date
        city_lat = city_weather["coord"]["lat"]
        city_lng = city_weather["coord"]["lon"]
        city_max_temp = city_weather["main"]["temp_max"]
        city_humidity = city_weather["main"]["humidity"]
        city_clouds = city_weather["clouds"]["all"]
        city_wind = city_weather["wind"]["speed"]
        city_country = city_weather["sys"]["country"]
        city_date = city_weather["dt"]

        # Append the City information into city_data list
        city_data.append({"City": city, 
                          "Lat": city_lat, 
                          "Lng": city_lng, 
                          "Max Temp": city_max_temp,
                          "Humidity": city_humidity,
                          "Cloudiness": city_clouds,
                          "Wind Speed": city_wind,
                          "Country": city_country,
                          "Date": city_date})

    # If an error is experienced, skip the city
    except:
        print("City not found. Skipping...")
        pass
              
# Indicate that Data Loading is complete 
print("-----------------------------")
print("Data Retrieval Complete      ")
print("-----------------------------")



# Convert the cities weather data into a Pandas DataFrame
city_data_df = pd.DataFrame(city_data)

# Show Record Count
city_data_df.count()


# Display sample data
city_data_df.head()


# Export the City_Data into a csv
city_data_df.to_csv("output_data/cities.csv", index_label="City_ID")


# Read saved data
city_data_df = pd.read_csv("output_data/cities.csv", index_col="City_ID")

# Display sample data
city_data_df.head()





# Build scatter plot for latitude vs. temperature
x_values = city_data_df['Lat']
y_values = city_data_df['Max Temp']
fig1, ax1 = plt.subplots(figsize=(10,8))
plt.scatter(x_values, y_values, alpha = 0.80, edgecolors = "k", linewidths = 1)

# Incorporate the other graph properties
plt.xlabel('Latitude')
plt.ylabel('Max Temperature (F)')
plt.title("City Latitude vs Temperature")
plt.grid()

# Save the figure
plt.savefig("output_data/Fig1.png")

# Show plot
plt.show()





# Build the scatter plots for latitude vs. humidity
x_values = city_data_df['Lat']
y_values = city_data_df['Humidity']
fig1, ax1 = plt.subplots(figsize=(10,8))
plt.scatter(x_values, y_values, alpha = 0.80, edgecolors = "k", linewidths = 1)

# Incorporate the other graph properties
plt.xlabel('Latitude')
plt.ylabel('Humidity')
plt.title("City Latitude vs Humidity")
plt.grid()

# Save the figure
plt.savefig("output_data/Fig2.png")

# Show plot
plt.show()





# Build the scatter plots for latitude vs. cloudiness
x_values = city_data_df['Lat']
y_values = city_data_df['Cloudiness']
fig1, ax1 = plt.subplots(figsize=(10,8))
plt.scatter(x_values, y_values, alpha = 0.80, edgecolors = "k", linewidths = 1)

# Incorporate the other graph properties
plt.xlabel('Latitude')
plt.ylabel('Cloudiness')
plt.title(f'City Latitude vs Cloudiness')
plt.grid()

# Save the figure
plt.savefig("output_data/Fig3.png")

# Show plot
plt.show()





# Build the scatter plots for latitude vs. wind speed
x_values = city_data_df['Lat']
y_values = city_data_df['Wind Speed']
fig1, ax1 = plt.subplots(figsize=(10,8))
plt.scatter(x_values, y_values, alpha = 0.80, edgecolors = "k", linewidths = 1)

# Incorporate the other graph properties
plt.xlabel('Latitude')
plt.ylabel('Wind Speed')
plt.title(f'City Latitude vs Wind Speed')
plt.grid()

# Save the figure
plt.savefig("output_data/Fig4.png")

# Show plot
plt.show()





# Define a function to create Linear Regression plots
def lineregress(x,y):
    slope, intercept, rvalue, p_value, std_err =linregress(x, y)
    plt.plot(x, [intercept + slope*val for val in x], 'r')
    print(f"The R-squared is: [rvalue]")


# Create a DataFrame with the Northern Hemisphere data (Latitude >= 0)
northern_hemi_df = city_data_df.loc[city_data_df["Lat"]>=0]

# Display sample data
northern_hemi_df.head()


# Create a DataFrame with the Southern Hemisphere data (Latitude < 0)
southern_hemi_df = city_data_df.loc[city_data_df["Lat"]< 0]

# Display sample data
southern_hemi_df.head()





# Linear regression on Northern Hemisphere
lineregress(northern_hemi_df['Lat'], northern_hemi_df['Max Temp'])
slope, intercept, rvalue, p_value, std_err = linregress(northern_hemi_df['Lat'], northern_hemi_df["Max Temp"])
plt.scatter(northern_hemi_df['Lat'], northern_hemi_df['Max Temp'])
slope = '{0:.2f}'.format(slope)
intercept = '{0:,.2f}'.format(intercept)

plt.text(0,270, s=f"y = {slope}x + {intercept}", c='r', size='x-large')
plt.ylabel("Max Temp")
plt.xlabel("Latitude")
plt.savefig("north_max_temp.png")
         








# Linear regression on Southern Hemisphere
lineregress(southern_hemi_df['Lat'], southern_hemi_df['Max Temp'])
slope, intercept, rvalue, p_value, std_err =lineregress(southern_hemi_df['Lat'], southern_hemi_df
plt.scatter(southern_hemi_df['Lat'], southern_hemi_df['Max Temp']
slope = '{0:,.2f}'.format(slope)
intercept = '{0:,.2f}'.format(intercept)

plt.text(-55,35, s=f"y = {slope}x + {intercept}", c='r', size='x-large')
plt.ylabel("Max Temp")
plt.xlabel("Latitude")
plt.savefig("south_max_temp.png")








# Northern Hemisphere
lineregress(northern_hemi_df['Lat'], norther_hemi_df['Humidity'])
slope, intercept, rvalue, p_value, std_err =lineregress(northern_hemi_df['Lat'], northern_hemi_df
plt.scatter(northern_hemi_df['Lat'], northern_hemi_df['Humidity']
slope = '{0:,.2f}'.format(slope)
intercept = '{0:,.2f}'.format(intercept)

plt.text(40,9, s=f"y = {slope}x + {intercept}", c='r', size='x-large')
plt.ylabel("Humidity")
plt.xlabel("Latitude")
plt.savefig("north_humidity.png")


# Southern Hemisphere
lineregress(southern_hemi_df['Lat'], southern_hemi_df['Humidity'])
slope, intercept, rvalue, p_value, std_err =lineregress(southern_hemi_df['Lat'], southern_hemi_df
plt.scatter(southern_hemi_df['Lat'], southern_hemi_df['Humidity']
slope = '{0:,.2f}'.format(slope)
intercept = '{0:,.2f}'.format(intercept)

plt.text(-23,18, s=f"y = {slope}x + {intercept}", c='r', size='x-large')
plt.ylabel("Humidity")
plt.xlabel("Latitude")
plt.savefig("south_humidity.png")








# Northern Hemisphere
lineregress(northern_hemi_df['Lat'], norther_hemi_df['Cloudiness'])
slope, intercept, rvalue, p_value, std_err =lineregress(northern_hemi_df['Lat'], northern_hemi_df
plt.scatter(northern_hemi_df['Lat'], northern_hemi_df['Cloudiness']
slope = '{0:,.2f}'.format(slope)
intercept = '{0:,.2f}'.format(intercept)

plt.text(11,27, s=f"y = {slope}x + {intercept}", c='r', size='x-large')
plt.ylabel("Cloudiness")
plt.xlabel("Latitude")
plt.savefig("north_cloudiness.png")


# Southern Hemisphere
lineregress(southern_hemi_df['Lat'], southern_hemi_df['Cloudiness'])
slope, intercept, rvalue, p_value, std_err =lineregress(southern_hemi_df['Lat'], southern_hemi_df
plt.scatter(southern_hemi_df['Lat'], southern_hemi_df['Cloudiness']
slope = '{0:,.2f}'.format(slope)
intercept = '{0:,.2f}'.format(intercept)

plt.text(-57,25, s=f"y = {slope}x + {intercept}", c='r', size='x-large')
plt.ylabel("Cloudiness")
plt.xlabel("Latitude")
plt.savefig("south_cloudiness.png")








# Northern Hemisphere
lineregress(northern_hemi_df['Lat'], norther_hemi_df['Wind Speed'])
slope, intercept, rvalue, p_value, std_err =lineregress(northern_hemi_df['Lat'], northern_hemi_df
plt.scatter(northern_hemi_df['Lat'], northern_hemi_df['Wind Speed']
slope = '{0:,.2f}'.format(slope)
intercept = '{0:,.2f}'.format(intercept)

plt.text(0,40, s=f"y = {slope}x + {intercept}", c='r', size='x-large')
plt.ylabel("Wind Speed")
plt.xlabel("Latitude")
plt.savefig("north_wind_speed.png")


# Southern Hemisphere
lineregress(southern_hemi_df['Lat'], southern_hemi_df['Wind Speed'])
slope, intercept, rvalue, p_value, std_err =lineregress(southern_hemi_df['Lat'], southern_hemi_df
plt.scatter(southern_hemi_df['Lat'], southern_hemi_df['Wind Speed']
slope = '{0:,.2f}'.format(slope)
intercept = '{0:,.2f}'.format(intercept)

plt.text(-25,20, s=f"y = {slope}x + {intercept}", c='r', size='x-large')
plt.ylabel("Wind Speed")
plt.xlabel("Latitude")
plt.savefig("south_wind_speed.png")






